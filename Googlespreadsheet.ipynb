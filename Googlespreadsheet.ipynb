{
 "cells": [
  {
   "cell_type": "code",
   "execution_count": 1,
   "metadata": {},
   "outputs": [
    {
     "name": "stdout",
     "output_type": "stream",
     "text": [
      "[{'Username': 'dydx', 'GIF1': 'i.imgur.com/7ZtC3JD.mp4', 'Audio1': '', 'Text1': 'i love babies', 'GIF2': 'facebook.com', 'Audio2': '', 'Text2': 'blueberry', 'GIF3': 'telegram.com', 'Audio3': '', 'Text3': 'treeplace', 'GIF1score': 0, 'GIF2score': 1, 'GIF3score': 0, 'Total': 1}, {'Username': 'muskaan', 'GIF1': 'i.imgur.com/7ZtC3JD.mp4', 'Audio1': '', 'Text1': 'i heart babies', 'GIF2': 'facebook.com', 'Audio2': '', 'Text2': 'grapple grapes', 'GIF3': 'telegram.com', 'Audio3': '', 'Text3': 'milo', 'GIF1score': 0, 'GIF2score': 0, 'GIF3score': 0, 'Total': 0}, {'Username': 'nicolaswee', 'GIF1': 'i.imgur.com/7ZtC3JD.mp4', 'Audio1': '', 'Text1': 'babies i love', 'GIF2': 'facebook.com', 'Audio2': '', 'Text2': 'blackberries', 'GIF3': 'telegram.com', 'Audio3': '', 'Text3': 'potato salad', 'GIF1score': 0, 'GIF2score': 0, 'GIF3score': 0, 'Total': 0}]\n"
     ]
    }
   ],
   "source": [
    "import gspread\n",
    "from oauth2client.service_account import ServiceAccountCredentials\n",
    "\n",
    "top_answer = ''\n",
    "winner = ''\n",
    "# use creds to create a client to interact with the Google Drive API\n",
    "scope = ['https://spreadsheets.google.com/feeds',\n",
    "         'https://www.googleapis.com/auth/drive']\n",
    "\n",
    "creds = ServiceAccountCredentials.from_json_keyfile_name('client_secret.json', scope)\n",
    "client = gspread.authorize(creds)\n",
    "\n",
    "# Find a workbook by name and open the first sheet\n",
    "# Make sure you use the right name here.\n",
    "sheet = client.open(\"Singlash\").sheet1\n",
    "\n",
    "# Extract and print all of the values\n",
    "list_of_hashes = sheet.get_all_records()\n",
    "\n",
    "def checkstart():\n",
    "    while len(list_of_hashes) != 3:\n",
    "        sheet = client.open(\"Singlash\").sheet1\n",
    "        list_of_hashes = sheet.get_all_records()\n",
    "    return True\n",
    "\n",
    "        \n",
    "\n",
    "print(list_of_hashes)"
   ]
  },
  {
   "cell_type": "code",
   "execution_count": 3,
   "metadata": {},
   "outputs": [
    {
     "data": {
      "text/plain": [
       "(['i love babies', 'i heart babies', 'babies i love'],\n",
       " ['blueberry', 'grapple grapes', 'blackberries'],\n",
       " ['treeplace', 'milo', 'potato salad'])"
      ]
     },
     "execution_count": 3,
     "metadata": {},
     "output_type": "execute_result"
    }
   ],
   "source": [
    "round1 = ''\n",
    "round1responses = []\n",
    "round2 = ''\n",
    "round2responses = []\n",
    "round3 = ''\n",
    "round3responses = []\n",
    "\n",
    "def getResponses():\n",
    "    for player in list_of_hashes:\n",
    "        for key,value in player.items():\n",
    "            if key == 'GIF1':\n",
    "                round1 = value\n",
    "            if key == 'GIF2':\n",
    "                round2 = value\n",
    "            if key == 'GIF3':\n",
    "                round3 = value\n",
    "            if key == 'Text1':\n",
    "                round1responses.append(value)\n",
    "            if key == 'Text2':\n",
    "                round2responses.append(value)\n",
    "            if key == 'Text3':\n",
    "                round3responses.append(value)\n",
    "\n",
    "getResponses()\n",
    "round1responses,round2responses,round3responses"
   ]
  },
  {
   "cell_type": "code",
   "execution_count": 25,
   "metadata": {
    "scrolled": true
   },
   "outputs": [
    {
     "name": "stdout",
     "output_type": "stream",
     "text": [
      "Enter:i heart babies\n"
     ]
    }
   ],
   "source": [
    "#for button\n",
    "\n",
    "userinput = input('Enter:')\n",
    "\n",
    "#update\n",
    "def updateScores():\n",
    "    for response in round1responses:\n",
    "        if userinput == response:\n",
    "            list_of_hashes[round1responses.index(userinput)]['GIF1score'] += 1\n",
    "            list_of_hashes[round1responses.index(userinput)]['Total'] += 1\n",
    "            sheet.update_cell((round1responses.index(userinput)+2), 11, list_of_hashes[round1responses.index(userinput)]['GIF1score'])\n",
    "            sheet.update_cell((round1responses.index(userinput)+2), 14, list_of_hashes[round1responses.index(userinput)]['Total'])\n",
    "        \n",
    "    for response in round2responses:\n",
    "        if userinput == response:\n",
    "            list_of_hashes[round2responses.index(userinput)]['GIF2score'] += 1\n",
    "            list_of_hashes[round2responses.index(userinput)]['Total'] += 1\n",
    "            sheet.update_cell((round2responses.index(userinput)+2), 12, list_of_hashes[round2responses.index(userinput)]['GIF2score'])\n",
    "            sheet.update_cell((round2responses.index(userinput)+2), 14, list_of_hashes[round2responses.index(userinput)]['Total'])\n",
    "        \n",
    "        \n",
    "    for response in round3responses:\n",
    "        if userinput == response:\n",
    "            list_of_hashes[round3responses.index(userinput)]['GIF3score'] += 1\n",
    "            list_of_hashes[round3responses.index(userinput)]['Total'] += 1\n",
    "            sheet.update_cell((round3responses.index(userinput)+2), 13, list_of_hashes[round3responses.index(userinput)]['GIF3score'])\n",
    "            sheet.update_cell((round3responses.index(userinput)+2), 14, list_of_hashes[round3responses.index(userinput)]['Total'])\n",
    "\n",
    "updateScores()"
   ]
  },
  {
   "cell_type": "code",
   "execution_count": null,
   "metadata": {},
   "outputs": [],
   "source": [
    "!pip install gspread"
   ]
  },
  {
   "cell_type": "code",
   "execution_count": 34,
   "metadata": {},
   "outputs": [
    {
     "name": "stdout",
     "output_type": "stream",
     "text": [
      "top1: ['milo'] \n",
      " top2: ['blueberry', 'i heart babies'] \n",
      " top3: ['i love babies', 'treeplace', 'grapple grapes', 'babies i love', 'blackberries', 'potato salad']\n"
     ]
    }
   ],
   "source": [
    "def checkwinner():\n",
    "    scores = []\n",
    "    top1 = []\n",
    "    top2 = []\n",
    "    top3 = []\n",
    "    for player in list_of_hashes:\n",
    "        scores.append(player['GIF1score'])\n",
    "        scores.append(player['GIF2score'])\n",
    "        scores.append(player['GIF3score'])\n",
    "    scores = list(set(sorted(scores)))\n",
    "    \n",
    "    for player in list_of_hashes:\n",
    "        if player['GIF1score'] == scores[-1]:\n",
    "            top1.append(player['Text1'])\n",
    "        if player['GIF1score'] == scores[-2]:\n",
    "            top2.append(player['Text1'])\n",
    "        if player['GIF1score'] == scores[-3]:\n",
    "            top3.append(player['Text1'])\n",
    "        if player['GIF2score'] == scores[-1]:\n",
    "            top1.append(player['Text2'])\n",
    "        if player['GIF2score'] == scores[-2]:\n",
    "            top2.append(player['Text2'])\n",
    "        if player['GIF2score'] == scores[-3]:\n",
    "            top3.append(player['Text2'])\n",
    "        if player['GIF3score'] == scores[-1]:\n",
    "            top1.append(player['Text3'])\n",
    "        if player['GIF3score'] == scores[-2]:\n",
    "            top2.append(player['Text3'])\n",
    "        if player['GIF3score'] == scores[-3]:\n",
    "            top3.append(player['Text3'])\n",
    "    print('top1:',top1,'\\n','top2:',top2,'\\n','top3:',top3)\n",
    "            \n",
    "        \n",
    "        \n",
    "checkwinner()"
   ]
  },
  {
   "cell_type": "code",
   "execution_count": null,
   "metadata": {},
   "outputs": [],
   "source": [
    "!pip install oauth2client"
   ]
  }
 ],
 "metadata": {
  "kernelspec": {
   "display_name": "Python 3",
   "language": "python",
   "name": "python3"
  },
  "language_info": {
   "codemirror_mode": {
    "name": "ipython",
    "version": 3
   },
   "file_extension": ".py",
   "mimetype": "text/x-python",
   "name": "python",
   "nbconvert_exporter": "python",
   "pygments_lexer": "ipython3",
   "version": "3.6.5"
  }
 },
 "nbformat": 4,
 "nbformat_minor": 2
}
