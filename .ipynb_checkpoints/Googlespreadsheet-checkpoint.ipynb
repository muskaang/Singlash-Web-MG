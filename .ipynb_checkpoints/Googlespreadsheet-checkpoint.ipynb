{
 "cells": [
  {
   "cell_type": "code",
   "execution_count": 1,
   "metadata": {},
   "outputs": [
    {
     "name": "stdout",
     "output_type": "stream",
     "text": [
      "[{'Username': 'dyd_x', 'GIF1': 'i.imgur.com/whSelr9.mp4', 'Audio1': 'output1.wav', 'Text1': 'ni de wheel zhuan de hen hao', 'GIF2': 'i.imgur.com/i6DSEeJ.mp4', 'Audio2': 'output2.wav', 'Text2': 'burlington also your driving ah beat the <v-noise>', 'GIF3': 'i.imgur.com/DgdXk57.mp4', 'Audio3': 'output3.wav', 'Text3': 'th i bank knit drum in then i begging your mom', 'GIF1score': 31, 'GIF2score': 12, 'GIF3score': 7, 'Total': 50}, {'Username': 'muskaan', 'GIF1': 'i.imgur.com/7ZtC3JD.mp4', 'Audio1': 'output4.wav', 'Text1': 'i heart babies', 'GIF2': 'i.imgur.com/7ZtC3JD.mp4', 'Audio2': 'output5.wav', 'Text2': 'grapple grapes', 'GIF3': 'i.imgur.com/Unqt9NY.mp4', 'Audio3': 'output6.wav', 'Text3': 'milo', 'GIF1score': 9, 'GIF2score': 2, 'GIF3score': 7, 'Total': 10}, {'Username': 'nicolaswee', 'GIF1': 'i.imgur.com/7ZtC3JD.mp4', 'Audio1': 'output7.wav', 'Text1': 'babies i love', 'GIF2': 'i.imgur.com/7ZtC3JD.mp4', 'Audio2': 'output8.wav', 'Text2': 'blackberries', 'GIF3': 'i.imgur.com/Unqt9NY.mp4', 'Audio3': 'output9.wav', 'Text3': 'potato salad', 'GIF1score': 8, 'GIF2score': 8, 'GIF3score': 6, 'Total': 16}, {'Username': 'dyd_x', 'GIF1': 'i.imgur.com/p1ZAIvQ.mp4', 'Audio1': 'output10.wav', 'Text1': 'what a nice slide', 'GIF2': 'i.imgur.com/p1ZAIvQ.mp4', 'Audio2': 'output11.wav', 'Text2': 'why did i have breakfast before this', 'GIF3': 'i.imgur.com/p1ZAIvQ.mp4', 'Audio3': 'output12.wav', 'Text3': 'sweeeeet', 'GIF1score': 3, 'GIF2score': 4, 'GIF3score': 3, 'Total': 10}, {'Username': 'kaskrex', 'GIF1': 'i.imgur.com/p1ZAIvQ.mp4', 'Audio1': 'output13.wav', 'Text1': 'i feel loopy', 'GIF2': 'i.imgur.com/p1ZAIvQ.mp4', 'Audio2': 'output14.wav', 'Text2': 'finally i got to pee', 'GIF3': 'i.imgur.com/p1ZAIvQ.mp4', 'Audio3': 'output15.wav', 'Text3': 'phew what a ride', 'GIF1score': 2, 'GIF2score': 8, 'GIF3score': 0, 'Total': 10}, {'Username': 'kaeyyy', 'GIF1': 'i.imgur.com/p1ZAIvQ.mp4', 'Audio1': 'output16.wav', 'Text1': 'can i puke in the ocean?', 'GIF2': 'i.imgur.com/p1ZAIvQ.mp4', 'Audio2': 'output17.wav', 'Text2': 'oops i did it again', 'GIF3': 'i.imgur.com/p1ZAIvQ.mp4', 'Audio3': 'output18.wav', 'Text3': \"hope there's no sharks out there\", 'GIF1score': 6, 'GIF2score': 1, 'GIF3score': 7, 'Total': 14}, {'Username': 'kaskrex', 'GIF1': 'i.imgur.com/whSelr9.mp4', 'Audio1': 'output19.wav', 'Text1': 'slow and steady wins the race', 'GIF2': 'i.imgur.com/aYKezqw.mp4', 'Audio2': 'output20.wav', 'Text2': 'dont die on my watch', 'GIF3': 'i.imgur.com/i6DSEeJ.mp4', 'Audio3': 'output21.wav', 'Text3': 'wheels on the bus go round and round', 'GIF1score': 1, 'GIF2score': 1, 'GIF3score': 4, 'Total': 6}, {'Username': 'dyd_x', 'GIF1': 'i.imgur.com/whSelr9.mp4', 'Audio1': 'output22.wav', 'Text1': 'cant wait for this to end', 'GIF2': 'i.imgur.com/aYKezqw.mp4', 'Audio2': 'output23.wav', 'Text2': 'dig dug dug', 'GIF3': 'i.imgur.com/i6DSEeJ.mp4', 'Audio3': 'output24.wav', 'Text3': 'how close i am to losing my shit', 'GIF1score': 2, 'GIF2score': 2, 'GIF3score': 4, 'Total': 8}, {'Username': 'kaskrex', 'GIF1': 'i.imgur.com/whSelr9.mp4', 'Audio1': 'output25.wav', 'Text1': 'thats my daily 9-5', 'GIF2': 'i.imgur.com/aYKezqw.mp4', 'Audio2': 'output26.wav', 'Text2': 'where theres a will, theres a way', 'GIF3': 'i.imgur.com/i6DSEeJ.mp4', 'Audio3': 'output27.wav', 'Text3': 'weekdays versus weekends', 'GIF1score': 4, 'GIF2score': 4, 'GIF3score': 3, 'Total': 11}, {'Username': 'kaeyyy', 'GIF1': 'i.imgur.com/whSelr9.mp4', 'Audio1': 'output28.wav', 'Text1': 'monday blues', 'GIF2': 'i.imgur.com/aYKezqw.mp4', 'Audio2': 'output29.wav', 'Text2': 'watcha doin', 'GIF3': 'i.imgur.com/i6DSEeJ.mp4', 'Audio3': 'output30.wav', 'Text3': 'hanging by a thread', 'GIF1score': 2, 'GIF2score': 3, 'GIF3score': 4, 'Total': 9}, {'Username': 'muskaan', 'GIF1': 'i.imgur.com/whSelr9.mp4', 'Audio1': 'output31.wav', 'Text1': 'time to eat?', 'GIF2': 'i.imgur.com/aYKezqw.mp4', 'Audio2': 'output32.wav', 'Text2': 'bow chicka bow wow', 'GIF3': 'i.imgur.com/i6DSEeJ.mp4', 'Audio3': 'output33.wav', 'Text3': 'hang in there', 'GIF1score': 3, 'GIF2score': 1, 'GIF3score': 1, 'Total': 5}, {'Username': 'muskaan', 'GIF1': 'i.imgur.com/whSelr9.mp4', 'Audio1': 'output34.wav', 'Text1': 'toodles', 'GIF2': 'i.imgur.com/aYKezqw.mp4', 'Audio2': 'output35.wav', 'Text2': 'catch me if you can', 'GIF3': 'i.imgur.com/i6DSEeJ.mp4', 'Audio3': 'output36.wav', 'Text3': 'wohoooo', 'GIF1score': 6, 'GIF2score': 5, 'GIF3score': 2, 'Total': 13}, {'Username': 'dyd_x', 'GIF1': 'i.imgur.com/whSelr9.mp4', 'Audio1': 'output37.wav', 'Text1': 'i feel goofy', 'GIF2': 'i.imgur.com/7ZtC3JD.mp4', 'Audio2': 'output38.wav', 'Text2': 'extra?', 'GIF3': 'i.imgur.com/Unqt9NY.mp4', 'Audio3': 'output39.wav', 'Text3': 'too mainstream?', 'GIF1score': 4, 'GIF2score': 0, 'GIF3score': 7, 'Total': 11}, {'Username': 'kaskrex', 'GIF1': 'i.imgur.com/whSelr9.mp4', 'Audio1': 'output40.wav', 'Text1': 'can you not', 'GIF2': 'i.imgur.com/7ZtC3JD.mp4', 'Audio2': 'output41.wav', 'Text2': 'live life king size', 'GIF3': 'i.imgur.com/Unqt9NY.mp4', 'Audio3': 'output42.wav', 'Text3': 'nbd', 'GIF1score': 8, 'GIF2score': 2, 'GIF3score': 3, 'Total': 13}, {'Username': 'muskaan', 'GIF1': 'i.imgur.com/7ZtC3JD.mp4', 'Audio1': 'output43.wav', 'Text1': 'riding that magic carpet like', 'GIF2': 'i.imgur.com/7ZtC3JD.mp4', 'Audio2': 'output44.wav', 'Text2': 'wobble wobble wobble', 'GIF3': 'i.imgur.com/Unqt9NY.mp4', 'Audio3': 'output45.wav', 'Text3': 'swoosh swoosh swoosh', 'GIF1score': 0, 'GIF2score': 0, 'GIF3score': 6, 'Total': 6}, {'Username': 'kaeyyy', 'GIF1': 'i.imgur.com/7ZtC3JD.mp4', 'Audio1': 'output46.wav', 'Text1': 'the only exercise i did this week', 'GIF2': 'i.imgur.com/7ZtC3JD.mp4', 'Audio2': 'output47.wav', 'Text2': 'wiggle wiggle wiggle', 'GIF3': 'i.imgur.com/Unqt9NY.mp4', 'Audio3': 'output48.wav', 'Text3': 'what exams?', 'GIF1score': 2, 'GIF2score': 1, 'GIF3score': 5, 'Total': 8}, {'Username': 'dyd_x', 'GIF1': 'i.imgur.com/7ZtC3JD.mp4', 'Audio1': 'output49.wav', 'Text1': 'baby got back', 'GIF2': 'i.imgur.com/7ZtC3JD.mp4', 'Audio2': 'output50.wav', 'Text2': 'slippery sloppy slope', 'GIF3': 'i.imgur.com/Unqt9NY.mp4', 'Audio3': 'output51.wav', 'Text3': 'vacation time', 'GIF1score': 6, 'GIF2score': 7, 'GIF3score': 2, 'Total': 15}, {'Username': 'kaeyyy', 'GIF1': 'i.imgur.com/7ZtC3JD.mp4', 'Audio1': 'output52.wav', 'Text1': 'catch me if you can', 'GIF2': 'i.imgur.com/MeheLti.mp4', 'Audio2': 'output53.wav', 'Text2': 'you want it i got it', 'GIF3': 'i.imgur.com/Unqt9NY.mp4', 'Audio3': 'output54.wav', 'Text3': 'woah thats huge. thats what she said.', 'GIF1score': 5, 'GIF2score': 3, 'GIF3score': 2, 'Total': 10}, {'Username': 'kaskrex', 'GIF1': 'i.imgur.com/7ZtC3JD.mp4', 'Audio1': 'output55.wav', 'Text1': 'too cool for school', 'GIF2': 'i.imgur.com/MeheLti.mp4', 'Audio2': 'output56.wav', 'Text2': 'whos the boss?', 'GIF3': 'i.imgur.com/rfkSU0U.mp4', 'Audio3': 'output57.wav', 'Text3': 'make way for noddy', 'GIF1score': 0, 'GIF2score': 5, 'GIF3score': 1, 'Total': 6}, {'Username': 'muskaan', 'GIF1': 'i.imgur.com/7ZtC3JD.mp4', 'Audio1': 'output58.wav', 'Text1': 'piece of cake', 'GIF2': 'i.imgur.com/MeheLti.mp4', 'Audio2': 'output59.wav', 'Text2': 'follow me', 'GIF3': 'i.imgur.com/rfkSU0U.mp4', 'Audio3': 'output60.wav', 'Text3': 'moveeeee', 'GIF1score': 3, 'GIF2score': 4, 'GIF3score': 0, 'Total': 7}, {'Username': 'kaskrex', 'GIF1': 'i.imgur.com/v98lDfy.mp4', 'Audio1': 'output61.wav', 'Text1': 'peekaboooo', 'GIF2': 'i.imgur.com/MeheLti.mp4', 'Audio2': 'output62.wav', 'Text2': 'resting bitch face', 'GIF3': 'i.imgur.com/rfkSU0U.mp4', 'Audio3': 'output63.wav', 'Text3': 'shut the f up', 'GIF1score': 6, 'GIF2score': 0, 'GIF3score': 3, 'Total': 9}, {'Username': 'kaskrex', 'GIF1': 'i.imgur.com/v98lDfy.mp4', 'Audio1': 'output64.wav', 'Text1': 'can we get a doggo?', 'GIF2': 'i.imgur.com/MeheLti.mp4', 'Audio2': 'output65.wav', 'Text2': 'when my jam is on', 'GIF3': 'i.imgur.com/rfkSU0U.mp4', 'Audio3': 'output66.wav', 'Text3': 'whos gonna reorganise those papers', 'GIF1score': 1, 'GIF2score': 1, 'GIF3score': 1, 'Total': 3}, {'Username': 'dyd_x', 'GIF1': 'i.imgur.com/v98lDfy.mp4', 'Audio1': 'output67.wav', 'Text1': 'like katy perry said \"i\\'m wide awake\"', 'GIF2': 'i.imgur.com/MeheLti.mp4', 'Audio2': 'output68.wav', 'Text2': 'go with the flow', 'GIF3': 'i.imgur.com/rfkSU0U.mp4', 'Audio3': 'output69.wav', 'Text3': 'cannot deal alr', 'GIF1score': 0, 'GIF2score': 2, 'GIF3score': 0, 'Total': 2}, {'Username': 'kaeyyy', 'GIF1': 'i.imgur.com/v98lDfy.mp4', 'Audio1': 'output70.wav', 'Text1': 'watcha upto young fellow', 'GIF2': 'i.imgur.com/MeheLti.mp4', 'Audio2': 'output71.wav', 'Text2': 'during midterms', 'GIF3': 'i.imgur.com/rfkSU0U.mp4', 'Audio3': 'output72.wav', 'Text3': 'false alarm', 'GIF1score': 1, 'GIF2score': 6, 'GIF3score': 4, 'Total': 11}, {'Username': 'muskaan', 'GIF1': 'i.imgur.com/v98lDfy.mp4', 'Audio1': 'output73.wav', 'Text1': 'can we get up and dance', 'GIF2': 'i.imgur.com/aYKezqw.mp4', 'Audio2': 'output74.wav', 'Text2': 'thats how we roll', 'GIF3': 'i.imgur.com/rfkSU0U.mp4', 'Audio3': 'output75.wav', 'Text3': \"where do you think you're going, mister?\", 'GIF1score': '', 'GIF2score': 4, 'GIF3score': 3, 'Total': 7}, {'Username': 'dyd_x', 'GIF1': 'i.imgur.com/v98lDfy.mp4', 'Audio1': 'output76.wav', 'Text1': 'i just pooped', 'GIF2': 'i.imgur.com/aYKezqw.mp4', 'Audio2': 'output77.wav', 'Text2': 'flippity flop', 'GIF3': 'i.imgur.com/Unqt9NY.mp4', 'Audio3': 'output78.wav', 'Text3': 'calm before the storm', 'GIF1score': 0, 'GIF2score': 5, 'GIF3score': 4, 'Total': 9}, {'Username': 'kaeyyy', 'GIF1': 'i.imgur.com/v98lDfy.mp4', 'Audio1': 'output79.wav', 'Text1': 'im gonna get up early and not let you sleep', 'GIF2': 'i.imgur.com/aYKezqw.mp4', 'Audio2': 'output80.wav', 'Text2': 'dont look back in anger', 'GIF3': 'i.imgur.com/Unqt9NY.mp4', 'Audio3': 'output81.wav', 'Text3': 'what even is danger', 'GIF1score': 3, 'GIF2score': 7, 'GIF3score': 1, 'Total': 11}]\n"
     ]
    }
   ],
   "source": [
    "import gspread\n",
    "from oauth2client.service_account import ServiceAccountCredentials\n",
    "\n",
    "top_answer = ''\n",
    "winner = ''\n",
    "# use creds to create a client to interact with the Google Drive API\n",
    "scope = ['https://spreadsheets.google.com/feeds',\n",
    "         'https://www.googleapis.com/auth/drive']\n",
    "\n",
    "creds = ServiceAccountCredentials.from_json_keyfile_name('client_secret.json', scope)\n",
    "client = gspread.authorize(creds)\n",
    "\n",
    "# Find a workbook by name and open the first sheet\n",
    "# Make sure you use the right name here.\n",
    "sheet = client.open(\"Singlash\").sheet1\n",
    "\n",
    "# Extract and print all of the values\n",
    "list_of_hashes = sheet.get_all_records()\n",
    "\n",
    "def checkstart():\n",
    "    while len(list_of_hashes) != 3:\n",
    "        sheet = client.open(\"Singlash\").sheet1\n",
    "        list_of_hashes = sheet.get_all_records()\n",
    "    return True\n",
    "\n",
    "        \n",
    "\n",
    "print(list_of_hashes)"
   ]
  },
  {
   "cell_type": "code",
   "execution_count": 2,
   "metadata": {},
   "outputs": [
    {
     "data": {
      "text/plain": [
       "(['ni de wheel zhuan de hen hao',\n",
       "  'i heart babies',\n",
       "  'babies i love',\n",
       "  'what a nice slide',\n",
       "  'i feel loopy',\n",
       "  'can i puke in the ocean?',\n",
       "  'slow and steady wins the race',\n",
       "  'cant wait for this to end',\n",
       "  'thats my daily 9-5',\n",
       "  'monday blues',\n",
       "  'time to eat?',\n",
       "  'toodles',\n",
       "  'i feel goofy',\n",
       "  'can you not',\n",
       "  'riding that magic carpet like',\n",
       "  'the only exercise i did this week',\n",
       "  'baby got back',\n",
       "  'catch me if you can',\n",
       "  'too cool for school',\n",
       "  'piece of cake',\n",
       "  'peekaboooo',\n",
       "  'can we get a doggo?',\n",
       "  'like katy perry said \"i\\'m wide awake\"',\n",
       "  'watcha upto young fellow',\n",
       "  'can we get up and dance',\n",
       "  'i just pooped',\n",
       "  'im gonna get up early and not let you sleep'],\n",
       " ['burlington also your driving ah beat the <v-noise>',\n",
       "  'grapple grapes',\n",
       "  'blackberries',\n",
       "  'why did i have breakfast before this',\n",
       "  'finally i got to pee',\n",
       "  'oops i did it again',\n",
       "  'dont die on my watch',\n",
       "  'dig dug dug',\n",
       "  'where theres a will, theres a way',\n",
       "  'watcha doin',\n",
       "  'bow chicka bow wow',\n",
       "  'catch me if you can',\n",
       "  'extra?',\n",
       "  'live life king size',\n",
       "  'wobble wobble wobble',\n",
       "  'wiggle wiggle wiggle',\n",
       "  'slippery sloppy slope',\n",
       "  'you want it i got it',\n",
       "  'whos the boss?',\n",
       "  'follow me',\n",
       "  'resting bitch face',\n",
       "  'when my jam is on',\n",
       "  'go with the flow',\n",
       "  'during midterms',\n",
       "  'thats how we roll',\n",
       "  'flippity flop',\n",
       "  'dont look back in anger'],\n",
       " ['th i bank knit drum in then i begging your mom',\n",
       "  'milo',\n",
       "  'potato salad',\n",
       "  'sweeeeet',\n",
       "  'phew what a ride',\n",
       "  \"hope there's no sharks out there\",\n",
       "  'wheels on the bus go round and round',\n",
       "  'how close i am to losing my shit',\n",
       "  'weekdays versus weekends',\n",
       "  'hanging by a thread',\n",
       "  'hang in there',\n",
       "  'wohoooo',\n",
       "  'too mainstream?',\n",
       "  'nbd',\n",
       "  'swoosh swoosh swoosh',\n",
       "  'what exams?',\n",
       "  'vacation time',\n",
       "  'woah thats huge. thats what she said.',\n",
       "  'make way for noddy',\n",
       "  'moveeeee',\n",
       "  'shut the f up',\n",
       "  'whos gonna reorganise those papers',\n",
       "  'cannot deal alr',\n",
       "  'false alarm',\n",
       "  \"where do you think you're going, mister?\",\n",
       "  'calm before the storm',\n",
       "  'what even is danger'])"
      ]
     },
     "execution_count": 2,
     "metadata": {},
     "output_type": "execute_result"
    }
   ],
   "source": [
    "round1 = ''\n",
    "round1responses = []\n",
    "round2 = ''\n",
    "round2responses = []\n",
    "round3 = ''\n",
    "round3responses = []\n",
    "\n",
    "def getResponses():\n",
    "    for player in list_of_hashes:\n",
    "        for key,value in player.items():\n",
    "            if key == 'GIF1':\n",
    "                round1 = value\n",
    "            if key == 'GIF2':\n",
    "                round2 = value\n",
    "            if key == 'GIF3':\n",
    "                round3 = value\n",
    "            if key == 'Text1':\n",
    "                round1responses.append(value)\n",
    "            if key == 'Text2':\n",
    "                round2responses.append(value)\n",
    "            if key == 'Text3':\n",
    "                round3responses.append(value)\n",
    "\n",
    "getResponses()\n",
    "round1responses,round2responses,round3responses"
   ]
  },
  {
   "cell_type": "code",
   "execution_count": 3,
   "metadata": {
    "scrolled": true
   },
   "outputs": [
    {
     "name": "stdout",
     "output_type": "stream",
     "text": [
      "Enter:\n"
     ]
    }
   ],
   "source": [
    "#for button\n",
    "\n",
    "userinput = input('Enter:')\n",
    "\n",
    "#update\n",
    "def updateScores():\n",
    "    for response in round1responses:\n",
    "        if userinput == response:\n",
    "            list_of_hashes[round1responses.index(userinput)]['GIF1score'] += 1\n",
    "            list_of_hashes[round1responses.index(userinput)]['Total'] += 1\n",
    "            sheet.update_cell((round1responses.index(userinput)+2), 11, list_of_hashes[round1responses.index(userinput)]['GIF1score'])\n",
    "            sheet.update_cell((round1responses.index(userinput)+2), 14, list_of_hashes[round1responses.index(userinput)]['Total'])\n",
    "        \n",
    "    for response in round2responses:\n",
    "        if userinput == response:\n",
    "            list_of_hashes[round2responses.index(userinput)]['GIF2score'] += 1\n",
    "            list_of_hashes[round2responses.index(userinput)]['Total'] += 1\n",
    "            sheet.update_cell((round2responses.index(userinput)+2), 12, list_of_hashes[round2responses.index(userinput)]['GIF2score'])\n",
    "            sheet.update_cell((round2responses.index(userinput)+2), 14, list_of_hashes[round2responses.index(userinput)]['Total'])\n",
    "        \n",
    "        \n",
    "    for response in round3responses:\n",
    "        if userinput == response:\n",
    "            list_of_hashes[round3responses.index(userinput)]['GIF3score'] += 1\n",
    "            list_of_hashes[round3responses.index(userinput)]['Total'] += 1\n",
    "            sheet.update_cell((round3responses.index(userinput)+2), 13, list_of_hashes[round3responses.index(userinput)]['GIF3score'])\n",
    "            sheet.update_cell((round3responses.index(userinput)+2), 14, list_of_hashes[round3responses.index(userinput)]['Total'])\n",
    "\n",
    "updateScores()"
   ]
  },
  {
   "cell_type": "code",
   "execution_count": null,
   "metadata": {},
   "outputs": [],
   "source": [
    "!pip install gspread"
   ]
  },
  {
   "cell_type": "code",
   "execution_count": 4,
   "metadata": {},
   "outputs": [
    {
     "ename": "TypeError",
     "evalue": "'<' not supported between instances of 'str' and 'int'",
     "output_type": "error",
     "traceback": [
      "\u001b[1;31m---------------------------------------------------------------------------\u001b[0m",
      "\u001b[1;31mTypeError\u001b[0m                                 Traceback (most recent call last)",
      "\u001b[1;32m<ipython-input-4-2dd5b787d2de>\u001b[0m in \u001b[0;36m<module>\u001b[1;34m()\u001b[0m\n\u001b[0;32m     33\u001b[0m \u001b[1;33m\u001b[0m\u001b[0m\n\u001b[0;32m     34\u001b[0m \u001b[1;33m\u001b[0m\u001b[0m\n\u001b[1;32m---> 35\u001b[1;33m \u001b[0mcheckwinner\u001b[0m\u001b[1;33m(\u001b[0m\u001b[1;33m)\u001b[0m\u001b[1;33m\u001b[0m\u001b[0m\n\u001b[0m",
      "\u001b[1;32m<ipython-input-4-2dd5b787d2de>\u001b[0m in \u001b[0;36mcheckwinner\u001b[1;34m()\u001b[0m\n\u001b[0;32m      8\u001b[0m         \u001b[0mscores\u001b[0m\u001b[1;33m.\u001b[0m\u001b[0mappend\u001b[0m\u001b[1;33m(\u001b[0m\u001b[0mplayer\u001b[0m\u001b[1;33m[\u001b[0m\u001b[1;34m'GIF2score'\u001b[0m\u001b[1;33m]\u001b[0m\u001b[1;33m)\u001b[0m\u001b[1;33m\u001b[0m\u001b[0m\n\u001b[0;32m      9\u001b[0m         \u001b[0mscores\u001b[0m\u001b[1;33m.\u001b[0m\u001b[0mappend\u001b[0m\u001b[1;33m(\u001b[0m\u001b[0mplayer\u001b[0m\u001b[1;33m[\u001b[0m\u001b[1;34m'GIF3score'\u001b[0m\u001b[1;33m]\u001b[0m\u001b[1;33m)\u001b[0m\u001b[1;33m\u001b[0m\u001b[0m\n\u001b[1;32m---> 10\u001b[1;33m     \u001b[0mscores\u001b[0m \u001b[1;33m=\u001b[0m \u001b[0mlist\u001b[0m\u001b[1;33m(\u001b[0m\u001b[0mset\u001b[0m\u001b[1;33m(\u001b[0m\u001b[0msorted\u001b[0m\u001b[1;33m(\u001b[0m\u001b[0mscores\u001b[0m\u001b[1;33m)\u001b[0m\u001b[1;33m)\u001b[0m\u001b[1;33m)\u001b[0m\u001b[1;33m\u001b[0m\u001b[0m\n\u001b[0m\u001b[0;32m     11\u001b[0m \u001b[1;33m\u001b[0m\u001b[0m\n\u001b[0;32m     12\u001b[0m     \u001b[1;32mfor\u001b[0m \u001b[0mplayer\u001b[0m \u001b[1;32min\u001b[0m \u001b[0mlist_of_hashes\u001b[0m\u001b[1;33m:\u001b[0m\u001b[1;33m\u001b[0m\u001b[0m\n",
      "\u001b[1;31mTypeError\u001b[0m: '<' not supported between instances of 'str' and 'int'"
     ]
    }
   ],
   "source": [
    "def checkwinner():\n",
    "    scores = []\n",
    "    top1 = []\n",
    "    top2 = []\n",
    "    top3 = []\n",
    "    for player in list_of_hashes:\n",
    "        scores.append(player['GIF1score'])\n",
    "        scores.append(player['GIF2score'])\n",
    "        scores.append(player['GIF3score'])\n",
    "    scores = list(set(sorted(scores)))\n",
    "    \n",
    "    for player in list_of_hashes:\n",
    "        if player['GIF1score'] == scores[-1]:\n",
    "            top1.append(player['Text1'])\n",
    "        if player['GIF1score'] == scores[-2]:\n",
    "            top2.append(player['Text1'])\n",
    "        if player['GIF1score'] == scores[-3]:\n",
    "            top3.append(player['Text1'])\n",
    "        if player['GIF2score'] == scores[-1]:\n",
    "            top1.append(player['Text2'])\n",
    "        if player['GIF2score'] == scores[-2]:\n",
    "            top2.append(player['Text2'])\n",
    "        if player['GIF2score'] == scores[-3]:\n",
    "            top3.append(player['Text2'])\n",
    "        if player['GIF3score'] == scores[-1]:\n",
    "            top1.append(player['Text3'])\n",
    "        if player['GIF3score'] == scores[-2]:\n",
    "            top2.append(player['Text3'])\n",
    "        if player['GIF3score'] == scores[-3]:\n",
    "            top3.append(player['Text3'])\n",
    "    print('top1:',top1,'\\n','top2:',top2,'\\n','top3:',top3)\n",
    "            \n",
    "        \n",
    "        \n",
    "checkwinner()"
   ]
  },
  {
   "cell_type": "code",
   "execution_count": null,
   "metadata": {},
   "outputs": [],
   "source": [
    "!pip install oauth2client"
   ]
  },
  {
   "cell_type": "code",
   "execution_count": 6,
   "metadata": {},
   "outputs": [
    {
     "name": "stdout",
     "output_type": "stream",
     "text": [
      "65.79\n",
      "13.16\n",
      "21.05\n"
     ]
    }
   ],
   "source": [
    "def getScoreP1():\n",
    "    return round(list_of_hashes[0]['Total']/(list_of_hashes[0]['Total']+ list_of_hashes[1]['Total']+ list_of_hashes[2]['Total']) * 100,2)\n",
    "\n",
    "def getScoreP2():\n",
    "    return round(list_of_hashes[1]['Total']/(list_of_hashes[0]['Total']+ list_of_hashes[1]['Total']+ list_of_hashes[2]['Total']) * 100,2)\n",
    "\n",
    "def getScoreP3():\n",
    "    return round(list_of_hashes[2]['Total']/(list_of_hashes[0]['Total']+ list_of_hashes[1]['Total']+ list_of_hashes[2]['Total']) * 100,2)\n",
    "\n",
    "\n",
    "print(getScoreP1())\n",
    "print(getScoreP2())\n",
    "print(getScoreP3())"
   ]
  },
  {
   "cell_type": "code",
   "execution_count": null,
   "metadata": {},
   "outputs": [],
   "source": []
  }
 ],
 "metadata": {
  "kernelspec": {
   "display_name": "Python 3",
   "language": "python",
   "name": "python3"
  },
  "language_info": {
   "codemirror_mode": {
    "name": "ipython",
    "version": 3
   },
   "file_extension": ".py",
   "mimetype": "text/x-python",
   "name": "python",
   "nbconvert_exporter": "python",
   "pygments_lexer": "ipython3",
   "version": "3.6.5"
  }
 },
 "nbformat": 4,
 "nbformat_minor": 2
}
